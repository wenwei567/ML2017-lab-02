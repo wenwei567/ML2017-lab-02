{
 "cells": [
  {
   "cell_type": "code",
   "execution_count": 11,
   "metadata": {
    "collapsed": true
   },
   "outputs": [],
   "source": [
    "import numpy as np\n",
    "import matplotlib.pyplot as plt\n",
    "from sklearn.datasets import load_svmlight_file\n",
    "from sklearn.model_selection import train_test_split"
   ]
  },
  {
   "cell_type": "code",
   "execution_count": 12,
   "metadata": {
    "collapsed": true
   },
   "outputs": [],
   "source": [
    "def Loss(X,y,w):\n",
    "    n_sample,n_feature = X.shape\n",
    "    f1 = y * np.dot(X,w)   #yi * Xi *w\n",
    "    loss = np.sum(np.log(np.exp(-f1) + 1))/n_sample #(1/n) * sum(ln(1+exp(-ywx)))\n",
    "    \n",
    "    #f1 = y * np.dot(X,w)   #yi * Xi *w\n",
    "    #loss = np.sum(np.log(np.exp(-(y * np.dot(X,w))) + 1))/n_sample\n",
    "    \n",
    "    return loss     "
   ]
  },
  {
   "cell_type": "code",
   "execution_count": 13,
   "metadata": {
    "collapsed": true
   },
   "outputs": [],
   "source": [
    "def Sgradient(X,y,w):\n",
    "    n_sample,n_feature = X.shape\n",
    "    f1 = y * X  #yi * Xi\n",
    "    f2 = y * np.dot(X,w)   #yi * Xi *w\n",
    "    grad_matrix = np.zeros((n_sample,n_feature))\n",
    "    for i in range(n_sample):\n",
    "        grad_matrix[i] = - (f1[i]/(1 + np.exp(f2[i,0])))\n",
    "    return grad_matrix"
   ]
  },
  {
   "cell_type": "code",
   "execution_count": 14,
   "metadata": {
    "collapsed": true
   },
   "outputs": [],
   "source": [
    "def Gradient(X,y,w):\n",
    "    gradient1 = Sgradient(X,y,w)\n",
    "    n_sample,n_feature = X.shape\n",
    "    gradient = np.zeros((1,n_feature))\n",
    "    for i in range(n_sample):\n",
    "        gradient = gradient + gradient1[i]\n",
    "    gradient = gradient/n_sample\n",
    "    return gradient"
   ]
  },
  {
   "cell_type": "code",
   "execution_count": 17,
   "metadata": {
    "collapsed": true
   },
   "outputs": [],
   "source": [
    "def RMSProp(X_train,y_train,X_test,y_test,w,iteration,train_loss,test_loss):\n",
    "    lr = 0.001\n",
    "    t = 0.9\n",
    "    G = 0\n",
    "    for i in range(iteration):\n",
    "        grad = Gradient(X_train,y_train,w).T\n",
    "        c = np.power(10.0,-8)\n",
    "        G = t * G + (1-t)*(grad*grad)\n",
    "        w = w - (lr / np.sqrt(G + c) * grad)\n",
    "        train_loss.append(Loss(X_train,y_train,w))\n",
    "        test_loss.append(Loss(X_test,y_test,w))\n",
    "    return w\n",
    "            "
   ]
  },
  {
   "cell_type": "code",
   "execution_count": 18,
   "metadata": {},
   "outputs": [
    {
     "data": {
      "image/png": "[encoded data removed]",
      "text/plain": [
       "<matplotlib.figure.Figure at 0x7f1cab893400>"
      ]
     },
     "metadata": {},
     "output_type": "display_data"
    }
   ],
   "source": [
    "#data_train = load_svmlight_file(\"/home/wade/ML2017-lab-02/a9a.txt\")\n",
    "#data_test = load_svmlight_file(\"/home/wade/ML2017-lab-02/a9a_test.txt\")\n",
    "\n",
    "#X_train = data_train[0].toarray()\n",
    "#X_test = data_test[0].toarray()\n",
    "#y_train = data_train[1].reshape(X_train.shape[0],1)\n",
    "#y_test = data_test[1].reshape(X_test.shape[0],1)\n",
    "\n",
    "data = load_svmlight_file(\"/home/wade/ML2017-lab-02/a9a.txt\")\n",
    "X = data[0].toarray()  #将特征集转为506*13矩阵\n",
    "number_data=len(data[1])\n",
    "y = data[1].reshape(number_data,1) #将标记集转为501*1矩阵\n",
    "X_train,X_test,y_train,y_test = train_test_split(X,y,test_size = 0.33) #将数据集切分为训练集和验证集\n",
    "\n",
    "\n",
    "\n",
    "\n",
    "w = np.zeros((X_train.shape[1],1))\n",
    "train_loss = []\n",
    "test_loss = []\n",
    "iteration = 500\n",
    "\n",
    "\n",
    "w = RMSProp(X_train,y_train,X_test,y_test,w,iteration,train_loss,test_loss)\n",
    "\n",
    "plt.plot(range(iteration),train_loss,label='training loss')\n",
    "plt.plot(range(iteration),test_loss,label =\"validation loss\")\n",
    "plt.xlabel('Iteration')\n",
    "plt.ylabel('Loss')\n",
    "plt.legend()\n",
    "plt.show()"
   ]
  },
  {
   "cell_type": "code",
   "execution_count": 7,
   "metadata": {},
   "outputs": [
    {
     "data": {
      "text/plain": [
       "(10746, 123)"
      ]
     },
     "execution_count": 7,
     "metadata": {},
     "output_type": "execute_result"
    }
   ],
   "source": [
    "X_test.shape"
   ]
  },
  {
   "cell_type": "code",
   "execution_count": null,
   "metadata": {
    "collapsed": true
   },
   "outputs": [],
   "source": [
    "y.shape"
   ]
  }
 ],
 "metadata": {
  "kernelspec": {
   "display_name": "Python 3",
   "language": "python",
   "name": "python3"
  },
  "language_info": {
   "codemirror_mode": {
    "name": "ipython",
    "version": 3
   },
   "file_extension": ".py",
   "mimetype": "text/x-python",
   "name": "python",
   "nbconvert_exporter": "python",
   "pygments_lexer": "ipython3",
   "version": "3.6.3"
  }
 },
 "nbformat": 4,
 "nbformat_minor": 2
}

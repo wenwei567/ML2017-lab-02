{
 "cells": [
  {
   "cell_type": "code",
   "execution_count": 1,
   "metadata": {
    "collapsed": true
   },
   "outputs": [],
   "source": [
    "import random\n",
    "import numpy as np\n",
    "import matplotlib.pyplot as plt\n",
    "from sklearn.datasets import load_svmlight_file\n",
    "from sklearn.model_selection import train_test_split"
   ]
  },
  {
   "cell_type": "code",
   "execution_count": 2,
   "metadata": {
    "collapsed": true
   },
   "outputs": [],
   "source": [
    "#生成随机数列表\n",
    "def RandomIntList(start, stop, number):\n",
    "    start, stop = (int(start), int(stop)) if start <= stop else (int(stop), int(start))\n",
    "    number = int(abs(number)) if number else 0\n",
    "    random_list = []\n",
    "    for i in range(number):\n",
    "        random_list.append(random.randint(start, stop))\n",
    "    return random_list"
   ]
  },
  {
   "cell_type": "code",
   "execution_count": 3,
   "metadata": {
    "collapsed": true
   },
   "outputs": [],
   "source": [
    "#loss函数，loss = np.dot(w.T.w)/2 + ln(1+exp(yi  * Xi * w))\n",
    "def Loss(X,y,w):\n",
    "    n_sample,n_feature = X.shape\n",
    "    f1 = y * np.dot(X,w)   #yi * Xi *w\n",
    "    loss = np.sum(np.log(np.exp(-f1) + 1))/n_sample #(1/n) * sum(ln(1+exp(-ywx)))\n",
    "    return (loss + np.dot(w.T,w)[0,0]/2)"
   ]
  },
  {
   "cell_type": "code",
   "execution_count": 4,
   "metadata": {
    "collapsed": true
   },
   "outputs": [],
   "source": [
    "#计算梯度\n",
    "def Gradient(X,y,w):\n",
    "    n_sample,n_feature = X.shape\n",
    "    gradient = -(y * X) / (1 + np.exp(y * np.dot(X,w)))\n",
    "    return ( w.T +(gradient.mean(axis = 0)).reshape(1,n_feature)) #返回随机梯度，为二维行向量"
   ]
  },
  {
   "cell_type": "code",
   "execution_count": 5,
   "metadata": {
    "collapsed": true
   },
   "outputs": [],
   "source": [
    "def RMSProp(X_train,y_train,X_test,y_test,iteration,batchSize,random_list,test_loss):\n",
    "    n_sample,n_feature = X_train.shape\n",
    "    w = np.zeros((n_feature,1))\n",
    "    lr = 0.001\n",
    "    t = 0.9 #伽马\n",
    "    G = np.zeros((n_feature,1))\n",
    "    c = np.power(10.0,-8)\n",
    "    for i in range(iteration):\n",
    "       #用随机数列表构造批量数据的矩阵，用来计算批量梯度\n",
    "        X_batch = np.array([X_train[j] for j in (random_list[i])],dtype = int).reshape(batchSize,n_feature)\n",
    "        y_batch = np.array([y_train[j] for j in (random_list[i])],dtype = int).reshape(batchSize,1)  \n",
    "        grad = Gradient(X_batch,y_batch,w).T\n",
    "        #c = np.power(10.0,-8) #移到了循环外\n",
    "        G = t * G + (1-t)*(grad*grad)\n",
    "        w = w - (lr / np.sqrt(G + c) * grad)\n",
    "        test_loss.append(Loss(X_test,y_test,w))\n",
    "    return w"
   ]
  },
  {
   "cell_type": "code",
   "execution_count": 6,
   "metadata": {
    "collapsed": true
   },
   "outputs": [],
   "source": [
    "def AdaDelta(X_train,y_train,X_test,y_test,iteration,batchSize,random_list,test_loss):\n",
    "    n_sample,n_feature = X_train.shape\n",
    "    w = np.zeros((n_feature,1))\n",
    "    gamma = 0.95\n",
    "    delta_t = np.zeros((n_feature,1))\n",
    "    c = np.power(10.0,-8)\n",
    "    G = np.zeros((n_feature,1))\n",
    "    for i in range(iteration):\n",
    "        #用随机数列表构造批量数据的矩阵，用来计算批量梯度\n",
    "        X_batch = np.array([X_train[j] for j in (random_list[i])],dtype = int).reshape(batchSize,n_feature)\n",
    "        y_batch = np.array([y_train[j] for j in (random_list[i])],dtype = int).reshape(batchSize,1)\n",
    "        grad = Gradient(X_batch,y_batch,w).T\n",
    "        G = gamma * G + (1-gamma) * grad * grad\n",
    "        delta_w = - (np.sqrt(delta_t + c)/np.sqrt(G + c)) * grad\n",
    "        w = w + delta_w\n",
    "        delta_t = gamma * delta_t + (1 - gamma) * delta_w * delta_w\n",
    "        test_loss.append(Loss(X_test,y_test,w))\n",
    "    return w"
   ]
  },
  {
   "cell_type": "code",
   "execution_count": 7,
   "metadata": {
    "collapsed": true
   },
   "outputs": [],
   "source": [
    "def Adam(X_train,y_train,X_test,y_test,iteration,batchSize,random_list,test_loss):\n",
    "    w = np.zeros((X_test.shape[1],1))\n",
    "    gamma = 0.999\n",
    "    delta_t = np.zeros((X_train.shape[1],1))\n",
    "    c = np.power(10.0,-8)\n",
    "    G = np.zeros((X_train.shape[1],1))\n",
    "    m = np.zeros((X_train.shape[1],1))\n",
    "    beta = 0.9 #可能需要衰减\n",
    "    lr = 0.001 #可能需要衰减\n",
    "    for i in range(iteration):\n",
    "        #用随机数列表构造批量数据的矩阵，用来计算批量梯度\n",
    "        X_batch = np.array([X_train[j] for j in (random_list[i])],dtype = int).reshape(batchSize,n_feature)\n",
    "        y_batch = np.array([y_train[j] for j in (random_list[i])],dtype = int).reshape(batchSize,1)\n",
    "        grad = Gradient(X_batch,y_batch,w).T\n",
    "        m = beta * m + (1-beta) * grad\n",
    "        G = gamma * G + (1 - gamma) * grad * grad\n",
    "        alpha = lr * np.sqrt(1-np.power(gamma,iteration)) / (1-np.power(beta,iteration))\n",
    "        w = w - alpha * m / np.sqrt(G + c)\n",
    "        test_loss.append(Loss(X_test,y_test,w))\n",
    "    return w"
   ]
  },
  {
   "cell_type": "code",
   "execution_count": 20,
   "metadata": {
    "collapsed": true
   },
   "outputs": [],
   "source": [
    "def NAG(X_train,y_train,X_test,y_test,iteration,batchSize,random_list,test_loss):\n",
    "    w = np.zeros((X_test.shape[1],1))\n",
    "    gamma = 0.9\n",
    "    lr = 0.0001\n",
    "    v = np.zeros((X_train.shape[1],1))\n",
    "    for i in range(iteration):\n",
    "        #用随机数列表构造批量数据的矩阵，用来计算批量梯度\n",
    "        X_batch = np.array([X_train[j] for j in (random_list[i])],dtype = int).reshape(batchSize,n_feature)\n",
    "        y_batch = np.array([y_train[j] for j in (random_list[i])],dtype = int).reshape(batchSize,1)\n",
    "        gradient = Gradient(X_batch,y_batch,w-gamma * v).T\n",
    "        v = gamma * v + lr * gradient\n",
    "        w = w - v\n",
    "        test_loss.append(Loss(X_test,y_test,w))\n",
    "    return w"
   ]
  },
  {
   "cell_type": "code",
   "execution_count": 21,
   "metadata": {
    "collapsed": true
   },
   "outputs": [],
   "source": [
    "def Validation(X_test,y_test,w):\n",
    "    y_result = 1 / (1 + np.exp(-np.dot(X_test,w)))\n",
    "    y_ = np.zeros((y_test.shape[0],1))\n",
    "    n = 0\n",
    "    for i in range(y_test.shape[0]):\n",
    "        if(y_result[i] > 0.5):\n",
    "            y_[i] = 1\n",
    "        else:\n",
    "            y_[i] = -1\n",
    "    for i in range(y_test.shape[0]):\n",
    "        if(y_[i] == y_test[i]):\n",
    "            n = n + 1\n",
    "    return (n/y_test.shape[0])"
   ]
  },
  {
   "cell_type": "code",
   "execution_count": 22,
   "metadata": {},
   "outputs": [
    {
     "data": {
      "image/png": "[encoded data removed]",
      "text/plain": [
       "<matplotlib.figure.Figure at 0x7f72e7a7c6a0>"
      ]
     },
     "metadata": {},
     "output_type": "display_data"
    }
   ],
   "source": [
    "data_train = load_svmlight_file(\"/home/wade/ML2017-lab-02/a9a.txt\")\n",
    "data_test = load_svmlight_file(\"/home/wade/ML2017-lab-02/a9a_t.txt\")\n",
    "\n",
    "X_train = data_train[0].toarray()\n",
    "X_test = data_test[0].toarray()\n",
    "X_test = np.c_[X_test,np.zeros((X_test.shape[0],1))]\n",
    "y_train = data_train[1].reshape(X_train.shape[0],1)\n",
    "y_test = data_test[1].reshape(X_test.shape[0],1)\n",
    "\n",
    "\n",
    "\n",
    "#w = np.zeros((X_test.shape[1],1))\n",
    "n_train,n_feature = X_train.shape\n",
    "RMSProp_loss = []\n",
    "AdaDelta_loss = []#用来记录梯度下降过程中产生的loss\n",
    "Adam_loss = []\n",
    "NAG_loss = []\n",
    "iteration = 3000#迭代次数\n",
    "batchSize = 1 #每次梯度下降用到的样本数\n",
    "#生成随机数矩阵\n",
    "random_list = np.random.randint(0, n_train-1,iteration * batchSize).reshape(iteration,batchSize)\n",
    "\n",
    "\n",
    "\n",
    "w1 = RMSProp(X_train,y_train,X_test,y_test,iteration,batchSize,random_list,RMSProp_loss)\n",
    "w2 = AdaDelta(X_train,y_train,X_test,y_test,iteration,batchSize,random_list,AdaDelta_loss)\n",
    "w3 = Adam(X_train,y_train,X_test,y_test,iteration,batchSize,random_list,Adam_loss)\n",
    "w4 = NAG(X_train,y_train,X_test,y_test,iteration,batchSize,random_list,NAG_loss)\n",
    "\n",
    "plt.yscale('log')\n",
    "plt.plot(range(iteration),RMSProp_loss,label='RMSProp loss')\n",
    "plt.plot(range(iteration),AdaDelta_loss,label='AdaDelta loss')\n",
    "plt.plot(range(iteration),Adam_loss,label =\"Adam loss\")\n",
    "plt.plot(range(iteration),NAG_loss,label =\"NAG loss\")\n",
    "plt.xlabel('Iteration')\n",
    "plt.ylabel('Loss')\n",
    "plt.legend()\n",
    "plt.show()"
   ]
  },
  {
   "cell_type": "code",
   "execution_count": 14,
   "metadata": {},
   "outputs": [
    {
     "data": {
      "image/png": "[encoded data removed]",
      "text/plain": [
       "<matplotlib.figure.Figure at 0x7f72e76c7978>"
      ]
     },
     "metadata": {},
     "output_type": "display_data"
    }
   ],
   "source": [
    "data_train = load_svmlight_file(\"/home/wade/ML2017-lab-02/a9a.txt\")\n",
    "data_test = load_svmlight_file(\"/home/wade/ML2017-lab-02/a9a_t.txt\")\n",
    "\n",
    "X_train = data_train[0].toarray()\n",
    "X_test = data_test[0].toarray()\n",
    "X_test = np.c_[X_test,np.zeros((X_test.shape[0],1))]\n",
    "y_train = data_train[1].reshape(X_train.shape[0],1)\n",
    "y_test = data_test[1].reshape(X_test.shape[0],1)\n",
    "\n",
    "n_train,n_feature = X_train.shape\n",
    "RMSProp_loss = []\n",
    "AdaDelta_loss = []\n",
    "Adam_loss = [] #用来记录梯度下降过程中产生的loss\n",
    "NAG_loss = []\n",
    "iteration = 500 #迭代次数\n",
    "batchSize = 100 #每次梯度下降用到的样本数\n",
    "#生成随机数矩阵\n",
    "random_list = np.random.randint(0, n_train-1,iteration * batchSize).reshape(iteration,batchSize)\n",
    "\n",
    "\n",
    "\n",
    "RMSProp(X_train,y_train,X_test,y_test,iteration,batchSize,random_list,RMSProp_loss)\n",
    "AdaDelta(X_train,y_train,X_test,y_test,iteration,batchSize,random_list,AdaDelta_loss)\n",
    "Adam(X_train,y_train,X_test,y_test,iteration,batchSize,random_list,Adam_loss)\n",
    "NAG(X_train,y_train,X_test,y_test,iteration,batchSize,random_list,NAG_loss)\n",
    "\n",
    "plt.yscale('log')\n",
    "plt.plot(range(iteration),RMSProp_loss,label='RMSProp loss')\n",
    "plt.plot(range(iteration),AdaDelta_loss,label='AdaDelta loss')\n",
    "plt.plot(range(iteration),Adam_loss,label =\"Adam loss\")\n",
    "plt.plot(range(iteration),NAG_loss,label =\"NAG loss\")\n",
    "plt.xlabel('Iteration')\n",
    "plt.ylabel('Loss')\n",
    "plt.legend()\n",
    "plt.show()"
   ]
  },
  {
   "cell_type": "code",
   "execution_count": null,
   "metadata": {
    "collapsed": true
   },
   "outputs": [],
   "source": []
  }
 ],
 "metadata": {
  "kernelspec": {
   "display_name": "Python 3",
   "language": "python",
   "name": "python3"
  },
  "language_info": {
   "codemirror_mode": {
    "name": "ipython",
    "version": 3
   },
   "file_extension": ".py",
   "mimetype": "text/x-python",
   "name": "python",
   "nbconvert_exporter": "python",
   "pygments_lexer": "ipython3",
   "version": "3.6.3"
  }
 },
 "nbformat": 4,
 "nbformat_minor": 2
}
